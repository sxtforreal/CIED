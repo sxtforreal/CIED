import pandas as pd
import os

PARQUET = '/home/sunx/data/aiiih/projects/sunx/projects/CIED/clean.parquet'
CSV = '/workspace/clean.csv'
df = pd.read_parquet(PARQUET) if os.path.exists(PARQUET) else pd.read_csv(CSV)
df.head()# CIED MRI Analysis Report

This notebook summarizes key tables and figures.